{
 "cells": [
  {
   "cell_type": "code",
   "execution_count": 4,
   "id": "957cee8c",
   "metadata": {},
   "outputs": [
    {
     "data": {
      "text/html": [
       "<style type=\"text/css\">\n",
       "#T_ec836 th {\n",
       "  text-align: left;\n",
       "}\n",
       "#T_ec836 td {\n",
       "  text-align: left;\n",
       "}\n",
       "</style>\n",
       "<table id=\"T_ec836\">\n",
       "  <thead>\n",
       "    <tr>\n",
       "      <th class=\"blank level0\" >&nbsp;</th>\n",
       "      <th id=\"T_ec836_level0_col0\" class=\"col_heading level0 col0\" >Loja</th>\n",
       "      <th id=\"T_ec836_level0_col1\" class=\"col_heading level0 col1\" >Estoque</th>\n",
       "    </tr>\n",
       "  </thead>\n",
       "  <tbody>\n",
       "    <tr>\n",
       "      <th id=\"T_ec836_level0_row0\" class=\"row_heading level0 row0\" >AA</th>\n",
       "      <td id=\"T_ec836_row0_col0\" class=\"data row0 col0\" >A</td>\n",
       "      <td id=\"T_ec836_row0_col1\" class=\"data row0 col1\" >500</td>\n",
       "    </tr>\n",
       "    <tr>\n",
       "      <th id=\"T_ec836_level0_row1\" class=\"row_heading level0 row1\" >BB</th>\n",
       "      <td id=\"T_ec836_row1_col0\" class=\"data row1 col0\" >B</td>\n",
       "      <td id=\"T_ec836_row1_col1\" class=\"data row1 col1\" >100</td>\n",
       "    </tr>\n",
       "    <tr>\n",
       "      <th id=\"T_ec836_level0_row2\" class=\"row_heading level0 row2\" >CC</th>\n",
       "      <td id=\"T_ec836_row2_col0\" class=\"data row2 col0\" >C</td>\n",
       "      <td id=\"T_ec836_row2_col1\" class=\"data row2 col1\" >300</td>\n",
       "    </tr>\n",
       "    <tr>\n",
       "      <th id=\"T_ec836_level0_row3\" class=\"row_heading level0 row3\" >DD</th>\n",
       "      <td id=\"T_ec836_row3_col0\" class=\"data row3 col0\" >D</td>\n",
       "      <td id=\"T_ec836_row3_col1\" class=\"data row3 col1\" >600</td>\n",
       "    </tr>\n",
       "  </tbody>\n",
       "</table>\n"
      ],
      "text/plain": [
       "<pandas.io.formats.style.Styler at 0x2b1e9f17750>"
      ]
     },
     "execution_count": 4,
     "metadata": {},
     "output_type": "execute_result"
    }
   ],
   "source": [
    "# Você trabalha como Analista de Dados em uma empresa de varejo e recebeu a \n",
    "# tarefa de criar uma figura com subplots que apresenta a variação no número de \n",
    "# vendas em quatro diferentes lojas ao longo de um ano. A gerência da empresa \n",
    "# precisa visualizar de forma clara as tendências de vendas em cada loja, para que \n",
    "# possam tomar decisões estratégicas sobre os estoques e ações de marketing. \n",
    "# Para isso, você deve criar quatro sub plots dispostos em duas linhas e duas \n",
    "# colunas, onde cada subplot representa uma loja diferente. Nesse desafio, cada \n",
    "# subplot deve apresentar um gráfico de linhas que mostra a variação do número \n",
    "# de vendas ao longo dos meses do ano.\n",
    "#  Agora, chegou a hora de mostrar suas habilidades em análise de dados e \n",
    "# visualização! Para criar o DataFrame com o número de vendas das lojas e criar a \n",
    "# figura, utilize as informações abaixo:\n",
    "\n",
    "# Criar um dataframe com as Lojas A,B,C e D e o estoque de cada loja com uma \n",
    "# coluna com as chaves AA, BB, CC, DD\n",
    "\n",
    "import pandas as pd\n",
    "\n",
    "# Dados\n",
    "lojas = ['A', 'B', 'C', 'D']\n",
    "estoque = [500, 100, 300, 600]\n",
    "indices = ['AA', 'BB', 'CC', 'DD']\n",
    "\n",
    "# Criação do DataFrame\n",
    "df_estoque = pd.DataFrame({\n",
    "    'Loja': lojas,\n",
    "    'Estoque': estoque\n",
    "}, index=indices)\n",
    "\n",
    "# Estiliza com alinhamento à esquerda\n",
    "df_estoque.style.set_table_styles([\n",
    "    {'selector': 'th', 'props': [('text-align', 'left')]},\n",
    "    {'selector': 'td', 'props': [('text-align', 'left')]}\n",
    "])\n"
   ]
  }
 ],
 "metadata": {
  "kernelspec": {
   "display_name": "Python 3",
   "language": "python",
   "name": "python3"
  },
  "language_info": {
   "codemirror_mode": {
    "name": "ipython",
    "version": 3
   },
   "file_extension": ".py",
   "mimetype": "text/x-python",
   "name": "python",
   "nbconvert_exporter": "python",
   "pygments_lexer": "ipython3",
   "version": "3.13.7"
  }
 },
 "nbformat": 4,
 "nbformat_minor": 5
}
