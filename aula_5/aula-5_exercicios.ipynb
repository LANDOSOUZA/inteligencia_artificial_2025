{
 "cells": [
  {
   "cell_type": "code",
   "execution_count": 3,
   "id": "414693cf",
   "metadata": {},
   "outputs": [],
   "source": [
    "#Lando - aula de 08/08/2025 - Exercícios."
   ]
  },
  {
   "cell_type": "code",
   "execution_count": 1,
   "id": "24aa09cf",
   "metadata": {},
   "outputs": [],
   "source": [
    "import pandas as pb"
   ]
  }
 ],
 "metadata": {
  "kernelspec": {
   "display_name": "Python 3",
   "language": "python",
   "name": "python3"
  },
  "language_info": {
   "codemirror_mode": {
    "name": "ipython",
    "version": 3
   },
   "file_extension": ".py",
   "mimetype": "text/x-python",
   "name": "python",
   "nbconvert_exporter": "python",
   "pygments_lexer": "ipython3",
   "version": "3.13.1"
  }
 },
 "nbformat": 4,
 "nbformat_minor": 5
}
