{
 "cells": [
  {
   "cell_type": "code",
   "execution_count": null,
   "id": "715cb149",
   "metadata": {},
   "outputs": [],
   "source": [
    "# Suponha que você está trabalhando em uma fábrica de produtos eletrônicos que produz dispositivos móves, \n",
    "# como smartphones e tablets. Você coletou dados sobre diferentes máquinas usadas na produção e deseja \n",
    "# classificá-las como \"Máquinas de Montagem\" ou \"Máquinas de Teste\" com base em suas características. \n",
    "# As características incluem a velocidade de operação, a complexidade das tarefas que executam e a quantidade \n",
    "# de manutenção necessária. Use uma árvores de decisão para classificar as máquinas."
   ]
  },
  {
   "cell_type": "code",
   "execution_count": null,
   "id": "8ad784d5",
   "metadata": {},
   "outputs": [],
   "source": [
    "# importação das bibliotecas\n",
    "import numpy as np # importa a biblioteca numpy\n",
    "import matplotlib.pyplot as plt # importação da biblioteca matplotlib\n",
    "import seaborn as sns # imporrtação da biblioteca seaborn\n",
    "from sklearn.model_selection import train_test_split # importação da biblioteca para divir os dados em treino e teste\n",
    "from sklearn.tree import DecisionTreeClassifier # importação a árvore de decisão\n",
    "from sklearn import tree # importação do elemento tree para plotar a árvore"
   ]
  },
  {
   "cell_type": "code",
   "execution_count": null,
   "id": "488a3ffb",
   "metadata": {},
   "outputs": [],
   "source": [
    "# Criação do conjunto de dados\n",
    "notas = np.array([8, 6, 5, 9, 4, 3, 7, 2, 1, 5, 6, 9, 8])\n",
    "classes = np.array(['bom', 'ruim', 'ruim', 'bom', 'pessimo', 'pessimo', 'bom', 'pessimo', 'pessimo', 'ruim', 'ruim', 'bom', 'bom'])"
   ]
  }
 ],
 "metadata": {
  "language_info": {
   "name": "python"
  }
 },
 "nbformat": 4,
 "nbformat_minor": 5
}
