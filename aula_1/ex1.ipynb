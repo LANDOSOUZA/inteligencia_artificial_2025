{
 "cells": [
  {
   "cell_type": "code",
   "execution_count": null,
   "id": "51ac4c5b",
   "metadata": {},
   "outputs": [
    {
     "data": {
      "text/html": [
       "<style type=\"text/css\">\n",
       "#T_e67da_row0_col0, #T_e67da_row0_col1, #T_e67da_row0_col2, #T_e67da_row0_col3, #T_e67da_row1_col0, #T_e67da_row1_col1, #T_e67da_row1_col2, #T_e67da_row1_col3, #T_e67da_row2_col0, #T_e67da_row2_col1, #T_e67da_row2_col2, #T_e67da_row2_col3, #T_e67da_row3_col0, #T_e67da_row3_col1, #T_e67da_row3_col2, #T_e67da_row3_col3, #T_e67da_row4_col0, #T_e67da_row4_col1, #T_e67da_row4_col2, #T_e67da_row4_col3, #T_e67da_row5_col0, #T_e67da_row5_col1, #T_e67da_row5_col2, #T_e67da_row5_col3 {\n",
       "  text-align: left;\n",
       "}\n",
       "</style>\n",
       "<table id=\"T_e67da\">\n",
       "  <thead>\n",
       "    <tr>\n",
       "      <th class=\"blank level0\" >&nbsp;</th>\n",
       "      <th id=\"T_e67da_level0_col0\" class=\"col_heading level0 col0\" >ID</th>\n",
       "      <th id=\"T_e67da_level0_col1\" class=\"col_heading level0 col1\" >Nome</th>\n",
       "      <th id=\"T_e67da_level0_col2\" class=\"col_heading level0 col2\" >Idade</th>\n",
       "      <th id=\"T_e67da_level0_col3\" class=\"col_heading level0 col3\" >Profissão</th>\n",
       "    </tr>\n",
       "  </thead>\n",
       "  <tbody>\n",
       "    <tr>\n",
       "      <th id=\"T_e67da_level0_row0\" class=\"row_heading level0 row0\" >0</th>\n",
       "      <td id=\"T_e67da_row0_col0\" class=\"data row0 col0\" >1</td>\n",
       "      <td id=\"T_e67da_row0_col1\" class=\"data row0 col1\" >Alice</td>\n",
       "      <td id=\"T_e67da_row0_col2\" class=\"data row0 col2\" >19</td>\n",
       "      <td id=\"T_e67da_row0_col3\" class=\"data row0 col3\" >Direito</td>\n",
       "    </tr>\n",
       "    <tr>\n",
       "      <th id=\"T_e67da_level0_row1\" class=\"row_heading level0 row1\" >1</th>\n",
       "      <td id=\"T_e67da_row1_col0\" class=\"data row1 col0\" >2</td>\n",
       "      <td id=\"T_e67da_row1_col1\" class=\"data row1 col1\" >Julia</td>\n",
       "      <td id=\"T_e67da_row1_col2\" class=\"data row1 col2\" >22</td>\n",
       "      <td id=\"T_e67da_row1_col3\" class=\"data row1 col3\" >Engenharia</td>\n",
       "    </tr>\n",
       "    <tr>\n",
       "      <th id=\"T_e67da_level0_row2\" class=\"row_heading level0 row2\" >2</th>\n",
       "      <td id=\"T_e67da_row2_col0\" class=\"data row2 col0\" >3</td>\n",
       "      <td id=\"T_e67da_row2_col1\" class=\"data row2 col1\" >Bruna</td>\n",
       "      <td id=\"T_e67da_row2_col2\" class=\"data row2 col2\" >28</td>\n",
       "      <td id=\"T_e67da_row2_col3\" class=\"data row2 col3\" >Enfermagem</td>\n",
       "    </tr>\n",
       "    <tr>\n",
       "      <th id=\"T_e67da_level0_row3\" class=\"row_heading level0 row3\" >3</th>\n",
       "      <td id=\"T_e67da_row3_col0\" class=\"data row3 col0\" >4</td>\n",
       "      <td id=\"T_e67da_row3_col1\" class=\"data row3 col1\" >Daniel</td>\n",
       "      <td id=\"T_e67da_row3_col2\" class=\"data row3 col2\" >34</td>\n",
       "      <td id=\"T_e67da_row3_col3\" class=\"data row3 col3\" >Engenheiro Civil</td>\n",
       "    </tr>\n",
       "    <tr>\n",
       "      <th id=\"T_e67da_level0_row4\" class=\"row_heading level0 row4\" >4</th>\n",
       "      <td id=\"T_e67da_row4_col0\" class=\"data row4 col0\" >5</td>\n",
       "      <td id=\"T_e67da_row4_col1\" class=\"data row4 col1\" >Filipe</td>\n",
       "      <td id=\"T_e67da_row4_col2\" class=\"data row4 col2\" >28</td>\n",
       "      <td id=\"T_e67da_row4_col3\" class=\"data row4 col3\" >Cientista da Computação</td>\n",
       "    </tr>\n",
       "    <tr>\n",
       "      <th id=\"T_e67da_level0_row5\" class=\"row_heading level0 row5\" >5</th>\n",
       "      <td id=\"T_e67da_row5_col0\" class=\"data row5 col0\" >6</td>\n",
       "      <td id=\"T_e67da_row5_col1\" class=\"data row5 col1\" >Silvio</td>\n",
       "      <td id=\"T_e67da_row5_col2\" class=\"data row5 col2\" >48</td>\n",
       "      <td id=\"T_e67da_row5_col3\" class=\"data row5 col3\" >Engenheiro Eletrônico</td>\n",
       "    </tr>\n",
       "  </tbody>\n",
       "</table>\n"
      ],
      "text/plain": [
       "<pandas.io.formats.style.Styler at 0x220e0e75310>"
      ]
     },
     "execution_count": 4,
     "metadata": {},
     "output_type": "execute_result"
    }
   ],
   "source": [
    "#  Criar um dataframe utilizando a biblioteca pandas para os seguintes dados:\n",
    "#  Nomes: Alice, Julia,Bruna, Daniel, Filipe, Silvio.\n",
    "#  Idade:    19, 22, 28,34,28,48\n",
    "#  Profissões: Direito, Engenharia, Enfermagem, Engenheiro Civil, Cientista da Computação, Engenheiro \n",
    "#  Eletrônico: ID: 1,2,3,4,5,6\n",
    "\n",
    "# Importa a biblioteca pandas\n",
    "import pandas as pd\n",
    "\n",
    "# Define os dados como dicionário\n",
    "dados = {\n",
    "    'ID': [1, 2, 3, 4, 5, 6],\n",
    "    'Nome': ['Alice', 'Julia', 'Bruna', 'Daniel', 'Filipe', 'Silvio'],\n",
    "    'Idade': [19, 22, 28, 34, 28, 48],\n",
    "    'Profissão': [\n",
    "        'Direito',\n",
    "        'Engenharia',\n",
    "        'Enfermagem',\n",
    "        'Engenheiro Civil',\n",
    "        'Cientista da Computação',\n",
    "        'Engenheiro Eletrônico'\n",
    "    ]\n",
    "}\n",
    "\n",
    "# Cria o DataFrame\n",
    "df = pd.DataFrame(dados)\n",
    "\n",
    "# Aplica estilo para alinhar todas as colunas à esquerda\n",
    "df.style.set_properties(**{'text-align': 'left'})\n",
    "\n"
   ]
  }
 ],
 "metadata": {
  "kernelspec": {
   "display_name": "Python 3",
   "language": "python",
   "name": "python3"
  },
  "language_info": {
   "codemirror_mode": {
    "name": "ipython",
    "version": 3
   },
   "file_extension": ".py",
   "mimetype": "text/x-python",
   "name": "python",
   "nbconvert_exporter": "python",
   "pygments_lexer": "ipython3",
   "version": "3.13.7"
  }
 },
 "nbformat": 4,
 "nbformat_minor": 5
}
