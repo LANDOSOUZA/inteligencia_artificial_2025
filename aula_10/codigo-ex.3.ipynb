{
 "cells": [
  {
   "cell_type": "code",
   "execution_count": 7,
   "id": "e15f5d38",
   "metadata": {},
   "outputs": [],
   "source": [
    "# Exemplo de máquinas\n",
    "# importando as bibliotecas\n",
    "\n",
    "import pandas as pd\n",
    "from sklearn.model_selection import train_test_split\n",
    "from sklearn.svm import SVC\n",
    "from sklearn.metrics import accuracy_score, classification_report, confusion_matrix\n",
    "import matplotlib.pyplot as plt\n",
    "import seaborn as sns\n",
    "import numpy as np"
   ]
  },
  {
   "cell_type": "code",
   "execution_count": 41,
   "id": "cf428d60",
   "metadata": {},
   "outputs": [],
   "source": [
    "# Criando a base de dados\n",
    "\n",
    "data = pd.DataFrame({\n",
    "    \"Vibração\":[3.2, 4.0, 3.7, 5.5, 6.2, 2.1, 2.8, 1.9, 7.3, 6.8, 2.4, 5.9, 4.5, 2.6, 4.8, 3.4, 6.1, 2.0, 5.0, 7.0],\n",
    "    \"Corrente\":[12.5, 14.2, 11.8, 15.6, 17.0, 10.2, 9.5, 8.8, 18.4, 17.8, 10.8, 16.2, 13.4, 9.9, 13.9, 11.5, 16.7, 8.6, 14.8, 18.0],\n",
    "    \"Temperatura\":[50.0, 51.2, 48.5, 53.1, 56.8, 45.7, 43.2, 41.6, 59.3, 57.9, 46.9, 54.7, 49.7, 44.5, 50.8, 47.3, 55.4, 41.0, 52.3, 58.7],\n",
    "    \"Classe\":['Não defeituosa', 'Não Defeituosa', 'Não defeituosa', 'Não Defeituosa', 'Não Defeituosa', 'Defeituosa', 'Defeituosa', \n",
    "              'Defeituosa', 'Não Defeituosa', 'Não Defeituosa', 'Defeituosa', 'Não Defeituosa', 'Não Defeituosa', 'Defeituosa', \n",
    "              'Não Defeituosa', 'Não Defeituosa', 'Não Defeituosa', 'Defeituosa', 'Não Defeituosa', 'Não Defeituosa']\n",
    "})"
   ]
  },
  {
   "cell_type": "code",
   "execution_count": 44,
   "id": "baad3a13",
   "metadata": {},
   "outputs": [
    {
     "data": {
      "text/html": [
       "<div>\n",
       "<style scoped>\n",
       "    .dataframe tbody tr th:only-of-type {\n",
       "        vertical-align: middle;\n",
       "    }\n",
       "\n",
       "    .dataframe tbody tr th {\n",
       "        vertical-align: top;\n",
       "    }\n",
       "\n",
       "    .dataframe thead th {\n",
       "        text-align: right;\n",
       "    }\n",
       "</style>\n",
       "<table border=\"1\" class=\"dataframe\">\n",
       "  <thead>\n",
       "    <tr style=\"text-align: right;\">\n",
       "      <th></th>\n",
       "      <th>Vibração</th>\n",
       "      <th>Corrente</th>\n",
       "      <th>Temperatura</th>\n",
       "      <th>Classe</th>\n",
       "    </tr>\n",
       "  </thead>\n",
       "  <tbody>\n",
       "    <tr>\n",
       "      <th>0</th>\n",
       "      <td>3.2</td>\n",
       "      <td>12.5</td>\n",
       "      <td>50.0</td>\n",
       "      <td>Não defeituosa</td>\n",
       "    </tr>\n",
       "    <tr>\n",
       "      <th>1</th>\n",
       "      <td>4.0</td>\n",
       "      <td>14.2</td>\n",
       "      <td>51.2</td>\n",
       "      <td>Não Defeituosa</td>\n",
       "    </tr>\n",
       "    <tr>\n",
       "      <th>2</th>\n",
       "      <td>3.7</td>\n",
       "      <td>11.8</td>\n",
       "      <td>48.5</td>\n",
       "      <td>Não defeituosa</td>\n",
       "    </tr>\n",
       "    <tr>\n",
       "      <th>3</th>\n",
       "      <td>5.5</td>\n",
       "      <td>15.6</td>\n",
       "      <td>53.1</td>\n",
       "      <td>Não Defeituosa</td>\n",
       "    </tr>\n",
       "    <tr>\n",
       "      <th>4</th>\n",
       "      <td>6.2</td>\n",
       "      <td>17.0</td>\n",
       "      <td>56.8</td>\n",
       "      <td>Não Defeituosa</td>\n",
       "    </tr>\n",
       "  </tbody>\n",
       "</table>\n",
       "</div>"
      ],
      "text/plain": [
       "   Vibração  Corrente  Temperatura          Classe\n",
       "0       3.2      12.5         50.0  Não defeituosa\n",
       "1       4.0      14.2         51.2  Não Defeituosa\n",
       "2       3.7      11.8         48.5  Não defeituosa\n",
       "3       5.5      15.6         53.1  Não Defeituosa\n",
       "4       6.2      17.0         56.8  Não Defeituosa"
      ]
     },
     "execution_count": 44,
     "metadata": {},
     "output_type": "execute_result"
    }
   ],
   "source": [
    "data.head() # exibe as 4 primeiras linhas do dataset"
   ]
  },
  {
   "cell_type": "code",
   "execution_count": 45,
   "id": "17712907",
   "metadata": {},
   "outputs": [
    {
     "data": {
      "text/html": [
       "<div>\n",
       "<style scoped>\n",
       "    .dataframe tbody tr th:only-of-type {\n",
       "        vertical-align: middle;\n",
       "    }\n",
       "\n",
       "    .dataframe tbody tr th {\n",
       "        vertical-align: top;\n",
       "    }\n",
       "\n",
       "    .dataframe thead th {\n",
       "        text-align: right;\n",
       "    }\n",
       "</style>\n",
       "<table border=\"1\" class=\"dataframe\">\n",
       "  <thead>\n",
       "    <tr style=\"text-align: right;\">\n",
       "      <th></th>\n",
       "      <th>Vibração</th>\n",
       "      <th>Corrente</th>\n",
       "      <th>Temperatura</th>\n",
       "      <th>Classe</th>\n",
       "    </tr>\n",
       "  </thead>\n",
       "  <tbody>\n",
       "    <tr>\n",
       "      <th>15</th>\n",
       "      <td>3.4</td>\n",
       "      <td>11.5</td>\n",
       "      <td>47.3</td>\n",
       "      <td>Não Defeituosa</td>\n",
       "    </tr>\n",
       "    <tr>\n",
       "      <th>16</th>\n",
       "      <td>6.1</td>\n",
       "      <td>16.7</td>\n",
       "      <td>55.4</td>\n",
       "      <td>Não Defeituosa</td>\n",
       "    </tr>\n",
       "    <tr>\n",
       "      <th>17</th>\n",
       "      <td>2.0</td>\n",
       "      <td>8.6</td>\n",
       "      <td>41.0</td>\n",
       "      <td>Defeituosa</td>\n",
       "    </tr>\n",
       "    <tr>\n",
       "      <th>18</th>\n",
       "      <td>5.0</td>\n",
       "      <td>14.8</td>\n",
       "      <td>52.3</td>\n",
       "      <td>Não Defeituosa</td>\n",
       "    </tr>\n",
       "    <tr>\n",
       "      <th>19</th>\n",
       "      <td>7.0</td>\n",
       "      <td>18.0</td>\n",
       "      <td>58.7</td>\n",
       "      <td>Não Defeituosa</td>\n",
       "    </tr>\n",
       "  </tbody>\n",
       "</table>\n",
       "</div>"
      ],
      "text/plain": [
       "    Vibração  Corrente  Temperatura          Classe\n",
       "15       3.4      11.5         47.3  Não Defeituosa\n",
       "16       6.1      16.7         55.4  Não Defeituosa\n",
       "17       2.0       8.6         41.0      Defeituosa\n",
       "18       5.0      14.8         52.3  Não Defeituosa\n",
       "19       7.0      18.0         58.7  Não Defeituosa"
      ]
     },
     "execution_count": 45,
     "metadata": {},
     "output_type": "execute_result"
    }
   ],
   "source": [
    "data.tail() # exibe as 4 últimas linhas do dataset"
   ]
  }
 ],
 "metadata": {
  "kernelspec": {
   "display_name": "Python 3",
   "language": "python",
   "name": "python3"
  },
  "language_info": {
   "codemirror_mode": {
    "name": "ipython",
    "version": 3
   },
   "file_extension": ".py",
   "mimetype": "text/x-python",
   "name": "python",
   "nbconvert_exporter": "python",
   "pygments_lexer": "ipython3",
   "version": "3.13.1"
  }
 },
 "nbformat": 4,
 "nbformat_minor": 5
}
