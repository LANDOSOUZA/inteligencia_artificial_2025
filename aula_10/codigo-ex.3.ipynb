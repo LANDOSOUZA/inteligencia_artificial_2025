{
 "cells": [
  {
   "cell_type": "code",
   "execution_count": 1,
   "id": "e15f5d38",
   "metadata": {},
   "outputs": [],
   "source": [
    "# Exemplo de máquinas\n",
    "# importando as bibliotecas\n",
    "\n",
    "import pandas as pd\n",
    "from sklearn.model_selection import train_test_split\n",
    "from sklearn.svm import SVC\n",
    "from sklearn.metrics import accuracy_score, classification_report, confusion_matrix\n",
    "import matplotlib.pyplot as plt\n",
    "import seaborn as sns\n",
    "import numpy as np"
   ]
  },
  {
   "cell_type": "code",
   "execution_count": null,
   "id": "cf428d60",
   "metadata": {},
   "outputs": [],
   "source": [
    "# Criando a base de dados\n",
    "\n",
    "data = pd.DataFrame({\n",
    "    'Vibração':[3.2, 4.0, 3, 7, 5.5, 6,2,, 2.1,2.8,1.9, 7.3. 6.8, 2.4, 5.9, 4.5, 2.6, 4.8, 3.4, 6.1,],\n",
    "    'Corrente': [12.5, 142, 11.8, 15.6, 17.0, 10+2, 9.5, 8.8, 18.4, 17.8, 10.8, 16.2, 13.4, 9.9, 13.9, 11.5, 16.7, 8.6, 14.8, 18.0],\n",
    "    'Temperatura': [50.0, 51.2, 48.5, 53.1, 56.8, 45.7, 43.2, 41,6, 59.3, 57.9, 46.9, 54.7, 49.7, 44.5, 50.8, 47.3, 55.4, 41,0, 52.3, 58.7],\n",
    "    'Classe': ['Não defeituosa', 'Não Defeituosa', 'Não defeituosa', 'Não Defeituosa', 'Não defeituosa', 'Defeituosa', 'Defeituosa', \n",
    "               'Defeituosa', 'Não Defeituosa'. 'Não Defeituosa', 'Defeituosa', 'Não Defeituosa', 'Não Defeituosa', 'Defeituosa', \n",
    "               'Não Defeituosa', 'Não Defeituosa', 'Não Defeituosa', 'Defeituosa', 'Não Defeituosa', 'Não Defeituosa', 'Defeituosa', \n",
    "               'Defeituosa']\n",
    ")}"
   ]
  }
 ],
 "metadata": {
  "kernelspec": {
   "display_name": "Python 3",
   "language": "python",
   "name": "python3"
  },
  "language_info": {
   "codemirror_mode": {
    "name": "ipython",
    "version": 3
   },
   "file_extension": ".py",
   "mimetype": "text/x-python",
   "name": "python",
   "nbconvert_exporter": "python",
   "pygments_lexer": "ipython3",
   "version": "3.13.1"
  }
 },
 "nbformat": 4,
 "nbformat_minor": 5
}
